{
  "nbformat": 4,
  "nbformat_minor": 0,
  "metadata": {
    "colab": {
      "name": "LanguageTranslationSch.ipynb",
      "provenance": [],
      "include_colab_link": true
    },
    "kernelspec": {
      "name": "python3",
      "display_name": "Python 3"
    },
    "accelerator": "GPU"
  },
  "cells": [
    {
      "cell_type": "markdown",
      "metadata": {
        "id": "view-in-github",
        "colab_type": "text"
      },
      "source": [
        "<a href=\"https://colab.research.google.com/github/vadlamani-s/technical-portfolio/blob/master/LanguageTranslation_New.ipynb\" target=\"_parent\"><img src=\"https://colab.research.google.com/assets/colab-badge.svg\" alt=\"Open In Colab\"/></a>"
      ]
    },
    {
      "cell_type": "code",
      "metadata": {
        "colab": {
          "base_uri": "https://localhost:8080/"
        },
        "id": "ZjedieXh8-8i",
        "outputId": "2f059327-ea64-4fa4-9d98-cb3156fb7f46"
      },
      "source": [
        "pip install fasttext"
      ],
      "execution_count": 1,
      "outputs": [
        {
          "output_type": "stream",
          "text": [
            "Collecting fasttext\n",
            "\u001b[?25l  Downloading https://files.pythonhosted.org/packages/f8/85/e2b368ab6d3528827b147fdb814f8189acc981a4bc2f99ab894650e05c40/fasttext-0.9.2.tar.gz (68kB)\n",
            "\r\u001b[K     |████▊                           | 10kB 132kB/s eta 0:00:01\r\u001b[K     |█████████▌                      | 20kB 262kB/s eta 0:00:01\r\u001b[K     |██████████████▎                 | 30kB 381kB/s eta 0:00:01\r\u001b[K     |███████████████████             | 40kB 497kB/s eta 0:00:01\r\u001b[K     |███████████████████████▉        | 51kB 604kB/s eta 0:00:01\r\u001b[K     |████████████████████████████▋   | 61kB 719kB/s eta 0:00:01\r\u001b[K     |████████████████████████████████| 71kB 775kB/s \n",
            "\u001b[?25hRequirement already satisfied: pybind11>=2.2 in /usr/local/lib/python3.6/dist-packages (from fasttext) (2.6.1)\n",
            "Requirement already satisfied: setuptools>=0.7.0 in /usr/local/lib/python3.6/dist-packages (from fasttext) (50.3.2)\n",
            "Requirement already satisfied: numpy in /usr/local/lib/python3.6/dist-packages (from fasttext) (1.18.5)\n",
            "Building wheels for collected packages: fasttext\n",
            "  Building wheel for fasttext (setup.py) ... \u001b[?25l\u001b[?25hdone\n",
            "  Created wheel for fasttext: filename=fasttext-0.9.2-cp36-cp36m-linux_x86_64.whl size=3041483 sha256=6df3396bcc5cc860611d85b37b03e92b4776a0dfeca9ada872c0c66c000477cc\n",
            "  Stored in directory: /root/.cache/pip/wheels/98/ba/7f/b154944a1cf5a8cee91c154b75231136cc3a3321ab0e30f592\n",
            "Successfully built fasttext\n",
            "Installing collected packages: fasttext\n",
            "Successfully installed fasttext-0.9.2\n"
          ],
          "name": "stdout"
        }
      ]
    },
    {
      "cell_type": "code",
      "metadata": {
        "id": "dSUC-am59LKo"
      },
      "source": [
        "import string\n",
        "import re\n",
        "from numpy import array, argmax, random, take\n",
        "import pandas as pd\n",
        "from keras.models import Sequential\n",
        "from keras.layers import Dense, LSTM, Embedding, RepeatVector\n",
        "from keras.preprocessing.text import Tokenizer\n",
        "from keras.callbacks import ModelCheckpoint\n",
        "from keras.preprocessing.sequence import pad_sequences\n",
        "from keras.models import load_model\n",
        "from keras import optimizers\n",
        "from keras import initializers\n",
        "import matplotlib.pyplot as plt\n",
        "%matplotlib inline\n",
        "from numpy import zeros\n",
        "from numpy import asarray\n",
        "import fasttext.util\n",
        "from collections import Counter\n",
        "from keras.utils import to_categorical\n",
        "from keras.callbacks import EarlyStopping\n",
        "from nltk.translate.bleu_score import corpus_bleu"
      ],
      "execution_count": 83,
      "outputs": []
    },
    {
      "cell_type": "markdown",
      "metadata": {
        "id": "4PJazD5b1UJY"
      },
      "source": [
        "#Package for Language Identification\n"
      ]
    },
    {
      "cell_type": "code",
      "metadata": {
        "colab": {
          "base_uri": "https://localhost:8080/"
        },
        "id": "B-Ir6HYI9LWR",
        "outputId": "3ca8a229-45f9-4f91-9a87-ec30989e48bb"
      },
      "source": [
        "## Language identification model for identifying the language in the data\n",
        "!wget https://dl.fbaipublicfiles.com/fasttext/supervised-models/lid.176.bin"
      ],
      "execution_count": 3,
      "outputs": [
        {
          "output_type": "stream",
          "text": [
            "--2020-11-24 20:12:11--  https://dl.fbaipublicfiles.com/fasttext/supervised-models/lid.176.bin\n",
            "Resolving dl.fbaipublicfiles.com (dl.fbaipublicfiles.com)... 104.22.74.142, 172.67.9.4, 104.22.75.142, ...\n",
            "Connecting to dl.fbaipublicfiles.com (dl.fbaipublicfiles.com)|104.22.74.142|:443... connected.\n",
            "HTTP request sent, awaiting response... 200 OK\n",
            "Length: 131266198 (125M) [application/octet-stream]\n",
            "Saving to: ‘lid.176.bin’\n",
            "\n",
            "lid.176.bin         100%[===================>] 125.18M  87.6MB/s    in 1.4s    \n",
            "\n",
            "2020-11-24 20:12:13 (87.6 MB/s) - ‘lid.176.bin’ saved [131266198/131266198]\n",
            "\n"
          ],
          "name": "stdout"
        }
      ]
    },
    {
      "cell_type": "markdown",
      "metadata": {
        "id": "k72KzYQn40qF"
      },
      "source": [
        "#French and Haitain Word Embedding"
      ]
    },
    {
      "cell_type": "code",
      "metadata": {
        "colab": {
          "base_uri": "https://localhost:8080/"
        },
        "id": "bu5I4WPOCBHx",
        "outputId": "e4756c4e-e05e-494a-c6a7-4911dcf3e10a"
      },
      "source": [
        "## French Word Embedding from fasttext\n",
        "fasttext.util.download_model('fr', if_exists='ignore')\n",
        "ft = fasttext.load_model('cc.fr.300.bin')"
      ],
      "execution_count": 5,
      "outputs": [
        {
          "output_type": "stream",
          "text": [
            "Warning : `load_model` does not return WordVectorModel or SupervisedModel any more, but a `FastText` object which is very similar.\n"
          ],
          "name": "stderr"
        }
      ]
    },
    {
      "cell_type": "code",
      "metadata": {
        "colab": {
          "base_uri": "https://localhost:8080/"
        },
        "id": "nubQHB3zdLwS",
        "outputId": "1489ba23-a0ca-4a4a-c083-619e687b8f3a"
      },
      "source": [
        "## Haitain Word Embedding from fasttext\n",
        "fasttext.util.download_model('ht', if_exists='ignore')\n",
        "ft_ht = fasttext.load_model('cc.ht.300.bin')"
      ],
      "execution_count": 6,
      "outputs": [
        {
          "output_type": "stream",
          "text": [
            "Downloading https://dl.fbaipublicfiles.com/fasttext/vectors-crawl/cc.ht.300.bin.gz\n",
            "Buffered data was truncated after reaching the output size limit."
          ],
          "name": "stdout"
        }
      ]
    },
    {
      "cell_type": "markdown",
      "metadata": {
        "id": "9KfVlGr347kW"
      },
      "source": [
        "#Language Identification"
      ]
    },
    {
      "cell_type": "code",
      "metadata": {
        "colab": {
          "base_uri": "https://localhost:8080/"
        },
        "id": "Vm8NPZ-3C94r",
        "outputId": "d84fc72e-6ba7-4d9a-a508-56e1850e8df1"
      },
      "source": [
        "## Loading the language model\n",
        "pretrained_lang_model = \"lid.176.bin\"\n",
        "model_language = fasttext.load_model(pretrained_lang_model)"
      ],
      "execution_count": 7,
      "outputs": [
        {
          "output_type": "stream",
          "text": [
            "Warning : `load_model` does not return WordVectorModel or SupervisedModel any more, but a `FastText` object which is very similar.\n"
          ],
          "name": "stderr"
        }
      ]
    },
    {
      "cell_type": "code",
      "metadata": {
        "id": "eVaUKoMh3oAg"
      },
      "source": [
        "def reading_to_dataframe(file):\n",
        "  df = pd.read_csv(file)\n",
        "  df = df.iloc[:,2:4].dropna()\n",
        "  df.reset_index(inplace=True, drop = True)\n",
        "  df['message'] = df['message'].str.lower()\n",
        "  df['original'] = df['original'].str.lower()\n",
        "  return df"
      ],
      "execution_count": 8,
      "outputs": []
    },
    {
      "cell_type": "code",
      "metadata": {
        "colab": {
          "base_uri": "https://localhost:8080/"
        },
        "id": "KmoP5Zzt5au2",
        "outputId": "7dedd258-1d96-4f7f-8150-e4f0baa7b8b9"
      },
      "source": [
        "train_path = \"/content/disaster_response_messages_training.csv\"\n",
        "validation_path = \"/content/disaster_response_messages_validation.csv\"\n",
        "test_path = \"/content/disaster_response_messages_test.csv\"\n",
        "df_train = reading_to_dataframe(train_path)\n",
        "df_validation = reading_to_dataframe(validation_path)\n",
        "df_test = reading_to_dataframe(test_path)"
      ],
      "execution_count": 22,
      "outputs": [
        {
          "output_type": "stream",
          "text": [
            "/usr/local/lib/python3.6/dist-packages/IPython/core/interactiveshell.py:2822: DtypeWarning: Columns (3) have mixed types.Specify dtype option on import or set low_memory=False.\n",
            "  if self.run_code(code, result):\n"
          ],
          "name": "stderr"
        }
      ]
    },
    {
      "cell_type": "markdown",
      "metadata": {
        "id": "euh-16ARSL2e"
      },
      "source": [
        "#Language Labelling"
      ]
    },
    {
      "cell_type": "code",
      "metadata": {
        "colab": {
          "base_uri": "https://localhost:8080/"
        },
        "id": "vRtYHw3kRvyO",
        "outputId": "244c5306-6f67-4f10-a7bd-a64a22a7ff5a"
      },
      "source": [
        "list_train = list()\n",
        "for sentence in df_train['original']:\n",
        "  list_train.append(model_language.predict(sentence, k = 2)[0][0])\n",
        "print(Counter(list_train))"
      ],
      "execution_count": 23,
      "outputs": [
        {
          "output_type": "stream",
          "text": [
            "Counter({'__label__fr': 2312, '__label__tl': 1160, '__label__ht': 972, '__label__en': 881, '__label__la': 213, '__label__ro': 205, '__label__hr': 168, '__label__pl': 158, '__label__es': 150, '__label__tr': 131, '__label__de': 127, '__label__ku': 115, '__label__nl': 109, '__label__pms': 104, '__label__wa': 103, '__label__jv': 91, '__label__eo': 88, '__label__br': 87, '__label__cy': 76, '__label__it': 73, '__label__su': 64, '__label__sq': 55, '__label__vi': 55, '__label__ca': 53, '__label__id': 49, '__label__pt': 46, '__label__sw': 43, '__label__war': 41, '__label__sl': 34, '__label__ms': 24, '__label__no': 23, '__label__hu': 20, '__label__ie': 20, '__label__ceb': 19, '__label__io': 18, '__label__sh': 17, '__label__kw': 16, '__label__fi': 14, '__label__fy': 14, '__label__et': 13, '__label__mg': 12, '__label__mt': 12, '__label__gn': 11, '__label__sr': 11, '__label__sv': 11, '__label__ur': 10, '__label__cs': 10, '__label__eu': 10, '__label__bs': 9, '__label__sc': 7, '__label__cbk': 7, '__label__az': 7, '__label__eml': 6, '__label__bcl': 6, '__label__ia': 6, '__label__sco': 5, '__label__lt': 5, '__label__diq': 5, '__label__nds': 5, '__label__ast': 4, '__label__da': 4, '__label__tk': 4, '__label__sk': 3, '__label__lv': 3, '__label__qu': 3, '__label__lb': 3, '__label__ta': 3, '__label__gl': 3, '__label__nap': 3, '__label__is': 3, '__label__lmo': 2, '__label__rm': 2, '__label__jbo': 2, '__label__so': 2, '__label__ilo': 2, '__label__nn': 2, '__label__mrj': 2, '__label__vo': 2, '__label__oc': 2, '__label__af': 2, '__label__dsb': 2, '__label__uz': 2, '__label__gu': 1, '__label__te': 1, '__label__als': 1, '__label__hif': 1, '__label__gv': 1, '__label__or': 1, '__label__th': 1, '__label__li': 1, '__label__an': 1, '__label__gd': 1, '__label__zh': 1, '__label__ko': 1, '__label__mk': 1, '__label__si': 1, '__label__mr': 1})\n"
          ],
          "name": "stdout"
        }
      ]
    },
    {
      "cell_type": "code",
      "metadata": {
        "colab": {
          "base_uri": "https://localhost:8080/"
        },
        "id": "GsW4s_uwWagV",
        "outputId": "18d1c4c8-e2e4-4d07-d32e-1b3cc4cb114a"
      },
      "source": [
        "len(Counter(list_train))"
      ],
      "execution_count": 24,
      "outputs": [
        {
          "output_type": "execute_result",
          "data": {
            "text/plain": [
              "97"
            ]
          },
          "metadata": {
            "tags": []
          },
          "execution_count": 24
        }
      ]
    },
    {
      "cell_type": "code",
      "metadata": {
        "colab": {
          "base_uri": "https://localhost:8080/"
        },
        "id": "aVNhDGruRv7g",
        "outputId": "5ed90052-2e25-4b4d-fb52-dff3cf8851e2"
      },
      "source": [
        "list_validation = list()\n",
        "for sentence in df_validation['original']:\n",
        "  list_validation.append(model_language.predict(sentence, k = 2)[0][0])\n",
        "print(Counter(list_validation))"
      ],
      "execution_count": 25,
      "outputs": [
        {
          "output_type": "stream",
          "text": [
            "Counter({'__label__fr': 287, '__label__tl': 132, '__label__en': 109, '__label__ht': 106, '__label__la': 32, '__label__es': 28, '__label__ro': 24, '__label__tr': 19, '__label__ku': 17, '__label__hr': 16, '__label__pl': 16, '__label__nl': 15, '__label__de': 13, '__label__wa': 13, '__label__it': 11, '__label__su': 11, '__label__sq': 11, '__label__eo': 10, '__label__br': 10, '__label__jv': 9, '__label__pms': 8, '__label__sw': 7, '__label__no': 6, '__label__pt': 6, '__label__id': 5, '__label__sl': 5, '__label__vi': 5, '__label__ca': 5, '__label__kw': 4, '__label__cy': 3, '__label__bcl': 3, '__label__fy': 3, '__label__ms': 3, '__label__cs': 2, '__label__ur': 2, '__label__gl': 2, '__label__eml': 2, '__label__sr': 2, '__label__diq': 2, '__label__so': 1, '__label__mwl': 1, '__label__ceb': 1, '__label__sh': 1, '__label__mg': 1, '__label__cbk': 1, '__label__sc': 1, '__label__gn': 1, '__label__mt': 1, '__label__is': 1, '__label__li': 1, '__label__ilo': 1, '__label__war': 1, '__label__fi': 1, '__label__mrj': 1, '__label__io': 1, '__label__mk': 1, '__label__eu': 1, '__label__hu': 1, '__label__ast': 1, '__label__nn': 1, '__label__sco': 1, '__label__sv': 1})\n"
          ],
          "name": "stdout"
        }
      ]
    },
    {
      "cell_type": "code",
      "metadata": {
        "colab": {
          "base_uri": "https://localhost:8080/"
        },
        "id": "hDER723SRwEL",
        "outputId": "c4a478f3-3816-4115-e15e-24a9bf2cf633"
      },
      "source": [
        "list_test = list()\n",
        "for sentence in df_test['original']:\n",
        "  list_test.append(model_language.predict(sentence, k = 2)[0][0])\n",
        "print(Counter(list_test))"
      ],
      "execution_count": 26,
      "outputs": [
        {
          "output_type": "stream",
          "text": [
            "Counter({'__label__fr': 281, '__label__tl': 144, '__label__ht': 129, '__label__en': 98, '__label__la': 37, '__label__es': 30, '__label__ro': 25, '__label__hr': 24, '__label__de': 20, '__label__nl': 19, '__label__ku': 14, '__label__br': 14, '__label__pms': 12, '__label__wa': 11, '__label__eo': 11, '__label__su': 11, '__label__pl': 10, '__label__ca': 10, '__label__jv': 9, '__label__tr': 8, '__label__war': 7, '__label__sq': 7, '__label__it': 6, '__label__sw': 5, '__label__id': 5, '__label__vi': 4, '__label__sl': 4, '__label__cy': 4, '__label__ms': 3, '__label__ceb': 3, '__label__oc': 3, '__label__ie': 3, '__label__no': 3, '__label__fi': 3, '__label__gu': 2, '__label__gv': 2, '__label__pt': 2, '__label__gn': 2, '__label__eu': 2, '__label__hu': 2, '__label__fy': 1, '__label__ilo': 1, '__label__tk': 1, '__label__sh': 1, '__label__mg': 1, '__label__sco': 1, '__label__yo': 1, '__label__nds': 1, '__label__bs': 1, '__label__lmo': 1, '__label__mt': 1, '__label__mrj': 1, '__label__qu': 1, '__label__gom': 1, '__label__jbo': 1, '__label__kw': 1, '__label__zh': 1})\n"
          ],
          "name": "stdout"
        }
      ]
    },
    {
      "cell_type": "markdown",
      "metadata": {
        "id": "N0GuGgsqR5cG"
      },
      "source": [
        "Since, the highest number of sentences in the training, validation and test set are in the French and Haitian language, I used the pre trained French and Haitian embedding from fasttext library."
      ]
    },
    {
      "cell_type": "markdown",
      "metadata": {
        "id": "re5dP3Vazo1-"
      },
      "source": [
        "Adding the labels to the Dataframe"
      ]
    },
    {
      "cell_type": "code",
      "metadata": {
        "id": "04T9gjmARwMU"
      },
      "source": [
        "df_train['label'] = list_train\n",
        "df_validation['label'] = list_validation\n",
        "df_test['label'] = list_test"
      ],
      "execution_count": 27,
      "outputs": []
    },
    {
      "cell_type": "markdown",
      "metadata": {
        "id": "OQlsbTixzyJ8"
      },
      "source": [
        "Removed all the other languages from training, validation and test sets apart from French and Haitain."
      ]
    },
    {
      "cell_type": "code",
      "metadata": {
        "id": "VaYuCeD0SR6y"
      },
      "source": [
        "df_train = df_train[(df_train['label'] == \"__label__fr\") | (df_train['label'] == \"__label__tl\") | (df_train['label'] == \"__label__ht\")]\n",
        "df_train.reset_index(inplace=True, drop = True)\n",
        "df_validation = df_validation[(df_validation['label'] == \"__label__fr\") | (df_validation['label'] == \"__label__tl\") | (df_validation['label'] == \"__label__ht\")]\n",
        "df_validation.reset_index(inplace=True, drop = True)\n",
        "df_test = df_test[(df_test['label'] == \"__label__fr\") | (df_test['label'] == \"__label__tl\") | (df_test['label'] == \"__label__ht\")]\n",
        "df_test.reset_index(inplace=True, drop = True)"
      ],
      "execution_count": 28,
      "outputs": []
    },
    {
      "cell_type": "code",
      "metadata": {
        "id": "zeMHdt00UZUG"
      },
      "source": [
        "df = df_train\n",
        "df = df.append(df_validation)\n",
        "df.reset_index(inplace=True, drop=True)"
      ],
      "execution_count": 30,
      "outputs": []
    },
    {
      "cell_type": "markdown",
      "metadata": {
        "id": "jNGQvAdF7j0M"
      },
      "source": [
        "#Tokenization of the Data using Keras, removing all the punctuations\n",
        "---"
      ]
    },
    {
      "cell_type": "code",
      "metadata": {
        "id": "leMe9t2p7hy0"
      },
      "source": [
        "def tokenization(lines):\n",
        "  tokenizer = Tokenizer(filters='!\"#$%&()*+,-./:;<=>?@[\\\\]^_`{|}~\\t\\n')\n",
        "  tokenizer.fit_on_texts(lines)\n",
        "  return tokenizer"
      ],
      "execution_count": 31,
      "outputs": []
    },
    {
      "cell_type": "code",
      "metadata": {
        "id": "iZlN6c6BCtTD"
      },
      "source": [
        "tokenizer_message_train = tokenization(df['message'])\n",
        "tokenizer_original_train = tokenization(df['original'])"
      ],
      "execution_count": 32,
      "outputs": []
    },
    {
      "cell_type": "code",
      "metadata": {
        "id": "2BxcJcS4YnhE",
        "outputId": "33db3676-75b9-4184-f020-11bd88e212b6",
        "colab": {
          "base_uri": "https://localhost:8080/"
        }
      },
      "source": [
        "list(tokenizer_original_train.word_index.items())[10:16]"
      ],
      "execution_count": 78,
      "outputs": [
        {
          "output_type": "execute_result",
          "data": {
            "text/plain": [
              "[('la', 11), ('se', 12), ('gen', 13), ('moun', 14), ('sa', 15), ('ka', 16)]"
            ]
          },
          "metadata": {
            "tags": []
          },
          "execution_count": 78
        }
      ]
    },
    {
      "cell_type": "code",
      "metadata": {
        "id": "7uYtWcZS83tA"
      },
      "source": [
        "vocabulary_size_original = len(tokenizer_original_train.word_index) + 1\n",
        "vocabulary_size_message = len(tokenizer_message_train.word_index) + 1\n",
        "max_original_sent_length = df['message'].str.split().str.len().max()\n",
        "max_message_sent_length = df['original'].str.split().str.len().max()"
      ],
      "execution_count": 33,
      "outputs": []
    },
    {
      "cell_type": "code",
      "metadata": {
        "colab": {
          "base_uri": "https://localhost:8080/"
        },
        "id": "g5mBAXku9fCT",
        "outputId": "96eab3a3-3ce2-4fa3-af17-a57340cc05a3"
      },
      "source": [
        "print(\"Max vocabulary length of multi-lingual data :\", vocabulary_size_original)\n",
        "print(\"Max vocabulary length of english data :\", vocabulary_size_message)\n",
        "print(\"Max sentence length of multi-lingual data :\", max_original_sent_length)\n",
        "print(\"Max sentence length of english data :\", max_message_sent_length)"
      ],
      "execution_count": 34,
      "outputs": [
        {
          "output_type": "stream",
          "text": [
            "Max vocabulary length of multi-lingual data : 11246\n",
            "Max vocabulary length of english data : 7567\n",
            "Max sentence length of multi-lingual data : 71\n",
            "Max sentence length of english data : 58\n"
          ],
          "name": "stdout"
        }
      ]
    },
    {
      "cell_type": "markdown",
      "metadata": {
        "id": "EXF4s-biFwQD"
      },
      "source": [
        "#Encoding sequences and padding with zero's\n",
        "\n",
        "---"
      ]
    },
    {
      "cell_type": "code",
      "metadata": {
        "id": "mOPsP_IhBCVP"
      },
      "source": [
        "def encode_sequences(tokenizer, max_length, sentences):\n",
        "  seq = tokenizer.texts_to_sequences(sentences)\n",
        "  seq = pad_sequences(seq, maxlen=max_length, padding='post')\n",
        "  return seq"
      ],
      "execution_count": 35,
      "outputs": []
    },
    {
      "cell_type": "code",
      "metadata": {
        "id": "4d3pwUDsFmuW"
      },
      "source": [
        "encode_message = encode_sequences(tokenizer_message_train, max_message_sent_length, df_train['message'])\n",
        "encode_original = encode_sequences(tokenizer_original_train, max_original_sent_length, df_train['original'])\n",
        "encode_message_validate = encode_sequences(tokenizer_message_train, max_message_sent_length, df_validation['message'])\n",
        "encode_original_validate = encode_sequences(tokenizer_original_train, max_original_sent_length, df_validation['original'])"
      ],
      "execution_count": 36,
      "outputs": []
    },
    {
      "cell_type": "code",
      "metadata": {
        "id": "Dy6UolmsAOfA",
        "outputId": "7bf0f22c-d722-42a0-9960-2e6dbffc54a2",
        "colab": {
          "base_uri": "https://localhost:8080/"
        }
      },
      "source": [
        "encode_message[0:50]"
      ],
      "execution_count": 39,
      "outputs": [
        {
          "output_type": "execute_result",
          "data": {
            "text/plain": [
              "array([[ 652, 3219,    6, ...,    0,    0,    0],\n",
              "       [  11,    1,  697, ...,    0,    0,    0],\n",
              "       [ 384,  583,  584, ...,    0,    0,    0],\n",
              "       ...,\n",
              "       [   5,   10,    6, ...,    0,    0,    0],\n",
              "       [  56,   34,  129, ...,    0,    0,    0],\n",
              "       [   2,   43,   41, ...,    0,    0,    0]], dtype=int32)"
            ]
          },
          "metadata": {
            "tags": []
          },
          "execution_count": 39
        }
      ]
    },
    {
      "cell_type": "code",
      "metadata": {
        "id": "LBTD6GtnAir9",
        "outputId": "f2c6141e-bd90-4f56-d101-df0278025fdb",
        "colab": {
          "base_uri": "https://localhost:8080/"
        }
      },
      "source": [
        "encode_message.shape"
      ],
      "execution_count": 38,
      "outputs": [
        {
          "output_type": "execute_result",
          "data": {
            "text/plain": [
              "(4998, 58)"
            ]
          },
          "metadata": {
            "tags": []
          },
          "execution_count": 38
        }
      ]
    },
    {
      "cell_type": "markdown",
      "metadata": {
        "id": "dtgancWqG0E6"
      },
      "source": [
        "#Building Embedded Matrix\n",
        "\n",
        "---\n",
        "\n"
      ]
    },
    {
      "cell_type": "code",
      "metadata": {
        "id": "vd3oj4juG5px"
      },
      "source": [
        "import numpy as np\n",
        "def create_embedded_matrix(embedding_matrix, tokenizer):\n",
        "  for word, index in tokenizer.word_index.items():\n",
        "    embedding_vector = ft.get_word_vector(word)\n",
        "    if np.all(embedding_vector) == 0:\n",
        "      embedded_matrix[index] = ft_ht.get_word_vector(word)\n",
        "      continue\n",
        "    embedding_matrix[index] = embedding_vector\n",
        "  return embedding_matrix"
      ],
      "execution_count": 40,
      "outputs": []
    },
    {
      "cell_type": "code",
      "metadata": {
        "id": "sWpcajwLG5uq"
      },
      "source": [
        "embedded_matrix = zeros((vocabulary_size_original, 300))\n",
        "embedded_matrix = create_embedded_matrix(embedded_matrix, tokenizer_original_train)"
      ],
      "execution_count": 41,
      "outputs": []
    },
    {
      "cell_type": "code",
      "metadata": {
        "id": "HAeu_hNPAt5Q",
        "outputId": "3a5ebebf-984a-4ac0-930d-bd53b87a5dee",
        "colab": {
          "base_uri": "https://localhost:8080/"
        }
      },
      "source": [
        "embedded_matrix[:50]"
      ],
      "execution_count": 43,
      "outputs": [
        {
          "output_type": "execute_result",
          "data": {
            "text/plain": [
              "array([[ 0.        ,  0.        ,  0.        , ...,  0.        ,\n",
              "         0.        ,  0.        ],\n",
              "       [-0.11999285, -0.17744699, -0.07027676, ..., -0.0160699 ,\n",
              "        -0.14665967,  0.01236633],\n",
              "       [ 0.04646803,  0.01604446, -0.08522566, ..., -0.1245033 ,\n",
              "        -0.05036523, -0.04511029],\n",
              "       ...,\n",
              "       [ 0.00065746, -0.10116724, -0.11052603, ..., -0.17531082,\n",
              "         0.16553444,  0.00861332],\n",
              "       [ 0.06718589, -0.00148281,  0.01460444, ...,  0.133968  ,\n",
              "         0.01425537,  0.02254672],\n",
              "       [-0.13507535, -0.07703584,  0.03156791, ..., -0.12189899,\n",
              "         0.00691818,  0.09448737]])"
            ]
          },
          "metadata": {
            "tags": []
          },
          "execution_count": 43
        }
      ]
    },
    {
      "cell_type": "code",
      "metadata": {
        "colab": {
          "base_uri": "https://localhost:8080/"
        },
        "id": "8LwAFupajV9x",
        "outputId": "f13cf44d-1d7f-496b-f370-c0b0bb86ebc9"
      },
      "source": [
        "embedded_matrix.shape"
      ],
      "execution_count": 44,
      "outputs": [
        {
          "output_type": "execute_result",
          "data": {
            "text/plain": [
              "(11246, 300)"
            ]
          },
          "metadata": {
            "tags": []
          },
          "execution_count": 44
        }
      ]
    },
    {
      "cell_type": "code",
      "metadata": {
        "id": "M-uZ9WIY0iEd"
      },
      "source": [
        "# Deleting the variables\n",
        "del ft\n",
        "del ft_ht"
      ],
      "execution_count": 45,
      "outputs": []
    },
    {
      "cell_type": "markdown",
      "metadata": {
        "id": "hzAMLbWaLNN0"
      },
      "source": [
        "#Building the Model\n",
        "\n",
        "---"
      ]
    },
    {
      "cell_type": "code",
      "metadata": {
        "id": "M1MpF7vELGDf"
      },
      "source": [
        "## Since a pre-trained embeddings are being used, the embedding layer doesnt have to be trained. \n",
        "model = Sequential()\n",
        "embedding_dimension = 300\n",
        "embedding_layer = Embedding(vocabulary_size_original, embedding_dimension, weights = [embedded_matrix], \n",
        "                            input_length=max_original_sent_length, trainable = False)"
      ],
      "execution_count": 46,
      "outputs": []
    },
    {
      "cell_type": "code",
      "metadata": {
        "id": "CTtAsZ0WPdqy"
      },
      "source": [
        "units = 256\n",
        "model.add(embedding_layer)\n",
        "model.add(LSTM(units))\n",
        "model.add(RepeatVector(max_message_sent_length))\n",
        "model.add(LSTM(units, return_sequences=True))\n",
        "model.add(Dense(vocabulary_size_message, activation='softmax'))\n",
        "rms = optimizers.RMSprop(lr=0.001)\n",
        "model.compile(optimizer=rms, loss='sparse_categorical_crossentropy')"
      ],
      "execution_count": 47,
      "outputs": []
    },
    {
      "cell_type": "code",
      "metadata": {
        "colab": {
          "base_uri": "https://localhost:8080/"
        },
        "id": "XzJYWNngVfcq",
        "outputId": "2d180ded-823e-4db4-e072-ee8e75ccdb31"
      },
      "source": [
        "model.summary()"
      ],
      "execution_count": 48,
      "outputs": [
        {
          "output_type": "stream",
          "text": [
            "Model: \"sequential\"\n",
            "_________________________________________________________________\n",
            "Layer (type)                 Output Shape              Param #   \n",
            "=================================================================\n",
            "embedding (Embedding)        (None, 71, 300)           3373800   \n",
            "_________________________________________________________________\n",
            "lstm (LSTM)                  (None, 256)               570368    \n",
            "_________________________________________________________________\n",
            "repeat_vector (RepeatVector) (None, 58, 256)           0         \n",
            "_________________________________________________________________\n",
            "lstm_1 (LSTM)                (None, 58, 256)           525312    \n",
            "_________________________________________________________________\n",
            "dense (Dense)                (None, 58, 7567)          1944719   \n",
            "=================================================================\n",
            "Total params: 6,414,199\n",
            "Trainable params: 3,040,399\n",
            "Non-trainable params: 3,373,800\n",
            "_________________________________________________________________\n"
          ],
          "name": "stdout"
        }
      ]
    },
    {
      "cell_type": "code",
      "metadata": {
        "id": "XUxt4CxXXzni"
      },
      "source": [
        "filename = 'model_new.h5'\n",
        "checkpoint = ModelCheckpoint(filename, monitor='val_loss', verbose=1, save_best_only=True, mode='min')\n",
        "earlystopping = EarlyStopping(monitor='val_loss', mode = 'min', verbose = 1, patience = 20)"
      ],
      "execution_count": 49,
      "outputs": []
    },
    {
      "cell_type": "code",
      "metadata": {
        "colab": {
          "base_uri": "https://localhost:8080/"
        },
        "id": "60pshLVBX4td",
        "outputId": "631ed641-c45c-4ca7-bd99-f7055169e9ca"
      },
      "source": [
        "history = model.fit(encode_original, encode_message, batch_size=64, validation_data=(encode_original_validate, encode_message_validate),\n",
        "        verbose = 1, callbacks = [checkpoint, earlystopping], epochs = 100)"
      ],
      "execution_count": 81,
      "outputs": [
        {
          "output_type": "stream",
          "text": [
            "Epoch 1/100\n",
            "78/79 [============================>.] - ETA: 0s - loss: 1.8614\n",
            "Epoch 00001: val_loss did not improve from 2.06260\n",
            "79/79 [==============================] - 5s 67ms/step - loss: 1.8608 - val_loss: 2.1327\n",
            "Epoch 2/100\n",
            "78/79 [============================>.] - ETA: 0s - loss: 1.8614\n",
            "Epoch 00002: val_loss did not improve from 2.06260\n",
            "79/79 [==============================] - 5s 66ms/step - loss: 1.8620 - val_loss: 2.1034\n",
            "Epoch 3/100\n",
            "78/79 [============================>.] - ETA: 0s - loss: 1.8556\n",
            "Epoch 00003: val_loss did not improve from 2.06260\n",
            "79/79 [==============================] - 5s 67ms/step - loss: 1.8556 - val_loss: 2.1116\n",
            "Epoch 4/100\n",
            "78/79 [============================>.] - ETA: 0s - loss: 1.8546\n",
            "Epoch 00004: val_loss did not improve from 2.06260\n",
            "79/79 [==============================] - 5s 67ms/step - loss: 1.8541 - val_loss: 2.1175\n",
            "Epoch 5/100\n",
            "78/79 [============================>.] - ETA: 0s - loss: 1.8506\n",
            "Epoch 00005: val_loss did not improve from 2.06260\n",
            "79/79 [==============================] - 5s 67ms/step - loss: 1.8514 - val_loss: 2.1246\n",
            "Epoch 6/100\n",
            "78/79 [============================>.] - ETA: 0s - loss: 1.8477\n",
            "Epoch 00006: val_loss did not improve from 2.06260\n",
            "79/79 [==============================] - 5s 67ms/step - loss: 1.8480 - val_loss: 2.1511\n",
            "Epoch 7/100\n",
            "78/79 [============================>.] - ETA: 0s - loss: 1.8450\n",
            "Epoch 00007: val_loss did not improve from 2.06260\n",
            "79/79 [==============================] - 5s 67ms/step - loss: 1.8447 - val_loss: 2.1419\n",
            "Epoch 8/100\n",
            "78/79 [============================>.] - ETA: 0s - loss: 1.8413\n",
            "Epoch 00008: val_loss did not improve from 2.06260\n",
            "79/79 [==============================] - 5s 67ms/step - loss: 1.8421 - val_loss: 2.1712\n",
            "Epoch 9/100\n",
            "78/79 [============================>.] - ETA: 0s - loss: 1.8385\n",
            "Epoch 00009: val_loss did not improve from 2.06260\n",
            "79/79 [==============================] - 5s 67ms/step - loss: 1.8379 - val_loss: 2.1278\n",
            "Epoch 10/100\n",
            "78/79 [============================>.] - ETA: 0s - loss: 1.8546\n",
            "Epoch 00010: val_loss did not improve from 2.06260\n",
            "79/79 [==============================] - 5s 67ms/step - loss: 1.8546 - val_loss: 2.1739\n",
            "Epoch 11/100\n",
            "78/79 [============================>.] - ETA: 0s - loss: 1.8937\n",
            "Epoch 00011: val_loss did not improve from 2.06260\n",
            "79/79 [==============================] - 5s 68ms/step - loss: 1.8939 - val_loss: 2.1767\n",
            "Epoch 12/100\n",
            "78/79 [============================>.] - ETA: 0s - loss: 1.8521\n",
            "Epoch 00012: val_loss did not improve from 2.06260\n",
            "79/79 [==============================] - 5s 67ms/step - loss: 1.8524 - val_loss: 2.1306\n",
            "Epoch 13/100\n",
            "78/79 [============================>.] - ETA: 0s - loss: 1.8382\n",
            "Epoch 00013: val_loss did not improve from 2.06260\n",
            "79/79 [==============================] - 5s 67ms/step - loss: 1.8382 - val_loss: 2.1191\n",
            "Epoch 14/100\n",
            "78/79 [============================>.] - ETA: 0s - loss: 1.8324\n",
            "Epoch 00014: val_loss did not improve from 2.06260\n",
            "79/79 [==============================] - 5s 67ms/step - loss: 1.8323 - val_loss: 2.1242\n",
            "Epoch 15/100\n",
            "78/79 [============================>.] - ETA: 0s - loss: 1.8262\n",
            "Epoch 00015: val_loss did not improve from 2.06260\n",
            "79/79 [==============================] - 5s 68ms/step - loss: 1.8260 - val_loss: 2.1381\n",
            "Epoch 16/100\n",
            "78/79 [============================>.] - ETA: 0s - loss: 1.8194\n",
            "Epoch 00016: val_loss did not improve from 2.06260\n",
            "79/79 [==============================] - 5s 67ms/step - loss: 1.8199 - val_loss: 2.1669\n",
            "Epoch 17/100\n",
            "78/79 [============================>.] - ETA: 0s - loss: 1.8132\n",
            "Epoch 00017: val_loss did not improve from 2.06260\n",
            "79/79 [==============================] - 5s 67ms/step - loss: 1.8135 - val_loss: 2.1297\n",
            "Epoch 18/100\n",
            "78/79 [============================>.] - ETA: 0s - loss: 1.8096\n",
            "Epoch 00018: val_loss did not improve from 2.06260\n",
            "79/79 [==============================] - 5s 67ms/step - loss: 1.8093 - val_loss: 2.1431\n",
            "Epoch 19/100\n",
            "78/79 [============================>.] - ETA: 0s - loss: 1.8152\n",
            "Epoch 00019: val_loss did not improve from 2.06260\n",
            "79/79 [==============================] - 5s 68ms/step - loss: 1.8153 - val_loss: 2.1493\n",
            "Epoch 20/100\n",
            "78/79 [============================>.] - ETA: 0s - loss: 1.8059\n",
            "Epoch 00020: val_loss did not improve from 2.06260\n",
            "79/79 [==============================] - 5s 68ms/step - loss: 1.8055 - val_loss: 2.1506\n",
            "Epoch 21/100\n",
            "78/79 [============================>.] - ETA: 0s - loss: 1.7922\n",
            "Epoch 00021: val_loss did not improve from 2.06260\n",
            "79/79 [==============================] - 5s 68ms/step - loss: 1.7940 - val_loss: 2.1676\n",
            "Epoch 22/100\n",
            "78/79 [============================>.] - ETA: 0s - loss: 1.7993\n",
            "Epoch 00022: val_loss did not improve from 2.06260\n",
            "79/79 [==============================] - 5s 68ms/step - loss: 1.7994 - val_loss: 2.1598\n",
            "Epoch 00022: early stopping\n"
          ],
          "name": "stdout"
        }
      ]
    },
    {
      "cell_type": "code",
      "metadata": {
        "colab": {
          "base_uri": "https://localhost:8080/",
          "height": 279
        },
        "id": "eVyunvl0gB1k",
        "outputId": "4372f1b8-2c62-46d9-cc4a-53d9df996150"
      },
      "source": [
        "plt.plot(history.history['loss'])\n",
        "plt.plot(history.history['val_loss'])\n",
        "plt.legend(['train','validation'])\n",
        "plt.xlabel(\"Epochs\")\n",
        "plt.ylabel('Loss')\n",
        "plt.show()"
      ],
      "execution_count": 82,
      "outputs": [
        {
          "output_type": "display_data",
          "data": {
            "image/png": "[encoded data removed]",
            "text/plain": [
              "<Figure size 432x288 with 1 Axes>"
            ]
          },
          "metadata": {
            "tags": [],
            "needs_background": "light"
          }
        }
      ]
    },
    {
      "cell_type": "code",
      "metadata": {
        "id": "t8gBHswIre55"
      },
      "source": [
        "model = load_model(filename)"
      ],
      "execution_count": 57,
      "outputs": []
    },
    {
      "cell_type": "code",
      "metadata": {
        "id": "Le_sj3zCqdpF",
        "colab": {
          "base_uri": "https://localhost:8080/"
        },
        "outputId": "53c75b28-4637-4ba5-956a-c420d8f1a53e"
      },
      "source": [
        "prediction = model.predict_classes(encode_original_validate)"
      ],
      "execution_count": 58,
      "outputs": [
        {
          "output_type": "stream",
          "text": [
            "WARNING:tensorflow:From <ipython-input-58-d0f5d105373a>:1: Sequential.predict_classes (from tensorflow.python.keras.engine.sequential) is deprecated and will be removed after 2021-01-01.\n",
            "Instructions for updating:\n",
            "Please use instead:* `np.argmax(model.predict(x), axis=-1)`,   if your model does multi-class classification   (e.g. if it uses a `softmax` last-layer activation).* `(model.predict(x) > 0.5).astype(\"int32\")`,   if your model does binary classification   (e.g. if it uses a `sigmoid` last-layer activation).\n"
          ],
          "name": "stdout"
        }
      ]
    },
    {
      "cell_type": "code",
      "metadata": {
        "colab": {
          "base_uri": "https://localhost:8080/"
        },
        "id": "Q4f0nTMtaaFA",
        "outputId": "1ac14792-5901-4340-9b93-e657e9539b17"
      },
      "source": [
        "prediction"
      ],
      "execution_count": 59,
      "outputs": [
        {
          "output_type": "execute_result",
          "data": {
            "text/plain": [
              "array([[ 2, 10,  1, ...,  0,  0,  0],\n",
              "       [ 2, 10,  6, ...,  0,  0,  0],\n",
              "       [ 2, 30,  1, ...,  0,  0,  0],\n",
              "       ...,\n",
              "       [ 2, 30,  1, ...,  0,  0,  0],\n",
              "       [ 2, 30, 27, ...,  0,  0,  0],\n",
              "       [ 2, 30,  1, ...,  0,  0,  0]])"
            ]
          },
          "metadata": {
            "tags": []
          },
          "execution_count": 59
        }
      ]
    },
    {
      "cell_type": "markdown",
      "metadata": {
        "id": "BgnPue5CPFpU"
      },
      "source": [
        "# Converting the Output to English"
      ]
    },
    {
      "cell_type": "code",
      "metadata": {
        "id": "FFbYfr00spHr"
      },
      "source": [
        "def get_word(n, tokenizer):\n",
        "  for word, index in tokenizer.word_index.items():\n",
        "    if index == n:\n",
        "      return word\n",
        "  return None\n",
        "\n",
        "predicted_text = []\n",
        "for line in prediction:\n",
        "  temp = []\n",
        "  for num in range(len(line)):\n",
        "    word = get_word(line[num], tokenizer_message_train)\n",
        "    if num > 0:\n",
        "      if (word == get_word(line[num-1], tokenizer_message_train)) or (word == None):\n",
        "        temp.append('')\n",
        "      else:\n",
        "        temp.append(word)\n",
        "    else:\n",
        "      if (word == None):\n",
        "        temp.append('')\n",
        "        pass\n",
        "      else:\n",
        "        temp.append(word) \n",
        "  predicted_text.append(' '.join(temp))"
      ],
      "execution_count": 60,
      "outputs": []
    },
    {
      "cell_type": "code",
      "metadata": {
        "id": "Nlp8eUXeg0UE"
      },
      "source": [
        "df_result = pd.DataFrame()\n",
        "df_result['Actual'] = df_validation['message']\n",
        "df_result['predicted'] = predicted_text"
      ],
      "execution_count": 61,
      "outputs": []
    },
    {
      "cell_type": "code",
      "metadata": {
        "id": "vhzN1dqCmjsb"
      },
      "source": [
        "target = list()\n",
        "result = list()\n",
        "for sentence in list(df_result.Actual):\n",
        "  target.append(sentence.split())\n",
        "for sentence in list(df_result.predicted):\n",
        "  result.append(sentence.split())"
      ],
      "execution_count": 87,
      "outputs": []
    },
    {
      "cell_type": "markdown",
      "metadata": {
        "id": "ge-a1tp6pmLO"
      },
      "source": [
        "#Evaluation Metric\n",
        "\n",
        "---"
      ]
    },
    {
      "cell_type": "code",
      "metadata": {
        "id": "MgZ5CKkjnddN",
        "outputId": "0ed4fc64-af13-4c48-bf88-c31c22d7b06f",
        "colab": {
          "base_uri": "https://localhost:8080/"
        }
      },
      "source": [
        "import warnings\n",
        "warnings.filterwarnings('ignore')\n",
        "print(\"BLEU score\", corpus_bleu(target, result, weights=(0.25,0.25,0.25,0.25)))"
      ],
      "execution_count": 106,
      "outputs": [
        {
          "output_type": "stream",
          "text": [
            "BLEU score 0.7212224211690602\n"
          ],
          "name": "stdout"
        }
      ]
    },
    {
      "cell_type": "code",
      "metadata": {
        "id": "dFCUUY0Fh18Y"
      },
      "source": [
        "df_result.to_csv(\"results.csv\")"
      ],
      "execution_count": 150,
      "outputs": []
    },
    {
      "cell_type": "markdown",
      "metadata": {
        "id": "f_18Ip8_SSBs"
      },
      "source": [
        "Results and Conclusion:\n",
        "\n",
        "1. The objective of the problem statement was to develop a language model for translating multi-lingual text to english. The best way to do this is to use an encoder and decoder to build an Seq-Seq model with the help of LSTM's.\n",
        "2. Directly feeding the given training data to the model and building an embedding layer using the training data did not produce good results as any new word which could occur in the test set couldnt be identified by the model and the data available for training was not enough.\n",
        "3. The next approach was to check how many different kinds of languages were present in the training set, since using the pre trained embeddings would solve the above problem. Using the fast text language identification API, I found out that there are around 91 different languages.\n",
        "4. The next step was to use the fasttext's french word embedding's for training the embedding layers for the model, but there was a problem with this method as the word vectors for the other languages were 0 vectors in the matrix. Thus the model wasnt not able to learn enough and gave incorrect results. \n",
        "5. Instead of using only one single language embedding, I used the Hatian embedding too for training the embedding layer. The results were a bit better than what I got previously but there wasnt much of an improvement.\n",
        "6. To improve the results further instead of using all the data in the training set which contained data of all the languages, I filtered the training set with data for only Hatian and French.\n",
        "After filtering out the data for 2 languages only, the numbers of rows reduced close to 3000 which wasnt sufficient enough to develop a good translation model."
      ]
    }
  ]
}